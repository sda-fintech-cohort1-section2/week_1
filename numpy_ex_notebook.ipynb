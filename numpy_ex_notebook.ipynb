{
 "cells": [
  {
   "cell_type": "markdown",
   "metadata": {
    "id": "zDfbukzq6NGB"
   },
   "source": [
    "## Intro to NumPy for Linear Algebra\n",
    "\n",
    "### Why NumPy?\n",
    "NumPy is the fundamental package for scientific computing in Python. It is a Python library that provides a multidimensional array object, various derived objects (such as masked arrays and matrices), and an assortment of routines for fast operations on arrays, including mathematical, logical, shape manipulation, sorting, selecting, I/O, discrete Fourier transforms, basic linear algebra, basic statistical operations, random simulation and much more.\n",
    "\n",
    "NumPy is easy to `import` and comes standard when you downloaded Anaconda. Simply write `import numpy as np` to make the package available in your current notebook. We are going to alias NumPy as `np` to make it easier to use when calling the different functions of the package\n",
    "\n",
    "#### References\n",
    "- [Linear Algebra](https://en.wikipedia.org/wiki/Linear_algebra)\n",
    "- [NumPy API Docs](https://numpy.org/doc/1.20/reference/index.html)\n",
    "- [NumPy Reference Docs](https://numpy.org/doc/stable/numpy-ref.pdf)\n",
    "![NumPy Cheat Sheet](img/Numpy_Python_Cheat_Sheet.jpg)"
   ]
  },
  {
   "cell_type": "code",
   "execution_count": 17,
   "metadata": {
    "id": "_gq4_oDR6NGG"
   },
   "outputs": [],
   "source": [
    "# Importing numpy\n",
    "import numpy as np"
   ]
  },
  {
   "cell_type": "markdown",
   "metadata": {
    "id": "9xtwWIa96NGI"
   },
   "source": [
    "### Scalars\n",
    "\n",
    "[Scalar Reference](https://en.wikipedia.org/wiki/Scalar_(mathematics))\n",
    "\n",
    "Scalars are real numbers used in linear algebra."
   ]
  },
  {
   "cell_type": "code",
   "execution_count": 18,
   "metadata": {
    "id": "MtNRdu5H6NGI",
    "outputId": "a96e38a9-3920-48e3-c986-c86bab3c3fa3"
   },
   "outputs": [
    {
     "name": "stdout",
     "output_type": "stream",
     "text": [
      "[10 20]\n"
     ]
    }
   ],
   "source": [
    "# Scalar Example\n",
    "\n",
    "scalar = 2\n",
    "vector = np.array([5,10])\n",
    "\n",
    "print(scalar*vector)"
   ]
  },
  {
   "cell_type": "code",
   "execution_count": 19,
   "metadata": {},
   "outputs": [
    {
     "ename": "TypeError",
     "evalue": "can only concatenate list (not \"int\") to list",
     "output_type": "error",
     "traceback": [
      "\u001b[1;31m---------------------------------------------------------------------------\u001b[0m",
      "\u001b[1;31mTypeError\u001b[0m                                 Traceback (most recent call last)",
      "\u001b[1;32m<ipython-input-19-b3684e5e4e85>\u001b[0m in \u001b[0;36m<module>\u001b[1;34m\u001b[0m\n\u001b[1;32m----> 1\u001b[1;33m \u001b[1;33m[\u001b[0m\u001b[1;36m10\u001b[0m\u001b[1;33m,\u001b[0m \u001b[1;36m20\u001b[0m\u001b[1;33m]\u001b[0m \u001b[1;33m+\u001b[0m \u001b[1;36m2\u001b[0m\u001b[1;33m\u001b[0m\u001b[1;33m\u001b[0m\u001b[0m\n\u001b[0m",
      "\u001b[1;31mTypeError\u001b[0m: can only concatenate list (not \"int\") to list"
     ]
    }
   ],
   "source": [
    "[10, 20] + 2"
   ]
  },
  {
   "cell_type": "code",
   "execution_count": 21,
   "metadata": {},
   "outputs": [
    {
     "data": {
      "text/plain": [
       "array([ 5., 10.])"
      ]
     },
     "execution_count": 21,
     "metadata": {},
     "output_type": "execute_result"
    }
   ],
   "source": [
    "np.array([10,20])/2"
   ]
  },
  {
   "cell_type": "markdown",
   "metadata": {
    "id": "17lf6va76NGK"
   },
   "source": [
    "### Vectors\n",
    "\n",
    "[Vector Reference](https://en.wikipedia.org/wiki/Vector_space)\n",
    "\n",
    "Vectors are an ordered list of elements and differs from a scalar by having both **magnitude** and **direction**."
   ]
  },
  {
   "cell_type": "code",
   "execution_count": 3,
   "metadata": {
    "id": "k7ftsNJ56NGK",
    "outputId": "d8b09eae-1c17-4820-b590-d32a9b777ac4"
   },
   "outputs": [
    {
     "name": "stdout",
     "output_type": "stream",
     "text": [
      "1 Dimmensional Vector: \n",
      " [1]\n",
      "2 Dimmensional Vector: \n",
      " [[1]\n",
      " [2]]\n",
      "3 Dimmensional Vector: \n",
      " [[1]\n",
      " [2]\n",
      " [3]]\n"
     ]
    }
   ],
   "source": [
    "# 1 dimmensional vector\n",
    "print(\"1 Dimmensional Vector: \\n\",np.array([1]))\n",
    "\n",
    "# 2 dimmensional vector\n",
    "print(\"2 Dimmensional Vector: \\n\",np.array([[1],\n",
    "                                         [2]]))\n",
    "\n",
    "# 3 dimmensional vector\n",
    "print(\"3 Dimmensional Vector: \\n\",np.array([[1],\n",
    "                                         [2],\n",
    "                                         [3]]))"
   ]
  },
  {
   "cell_type": "markdown",
   "metadata": {
    "id": "KTptvUtW6NGL"
   },
   "source": [
    "### Norm\n",
    "\n",
    "- [Reference](https://en.wikipedia.org/wiki/Norm_(mathematics))\n",
    "- [Documentation](https://numpy.org/doc/stable/reference/generated/numpy.linalg.norm.html)\n",
    "\n",
    "![img](https://wikimedia.org/api/rest_v1/media/math/render/svg/4d2562bd8e6df0c2625fd9c0e0c09ee9b932785d)\n",
    "\n",
    "Norm is also know as the magnitude of the vector."
   ]
  },
  {
   "cell_type": "code",
   "execution_count": 4,
   "metadata": {
    "id": "FxXQ3-ZS6NGM",
    "outputId": "921b806a-388a-435c-cf36-5bd0e6578cb0"
   },
   "outputs": [
    {
     "name": "stdout",
     "output_type": "stream",
     "text": [
      "Norm by hand: 11.61895003862225\n",
      "Norm using NumPy: 11.61895003862225\n"
     ]
    }
   ],
   "source": [
    "# Create vector\n",
    "v = np.array([3,4,5,6,7])\n",
    "np.linalg.norm(v)\n",
    "\n",
    "# Calculating norm by hand\n",
    "hand_norm = np.sqrt(np.sum(np.power(v,2)))\n",
    "print(\"Norm by hand:\",hand_norm)\n",
    "\n",
    "# Using NumPy to calculate norm\n",
    "numpy_norm = np.linalg.norm(v)\n",
    "print(\"Norm using NumPy:\",numpy_norm)"
   ]
  },
  {
   "cell_type": "code",
   "execution_count": 24,
   "metadata": {},
   "outputs": [
    {
     "data": {
      "text/plain": [
       "2520"
      ]
     },
     "execution_count": 24,
     "metadata": {},
     "output_type": "execute_result"
    }
   ],
   "source": [
    "np.product(v)"
   ]
  },
  {
   "cell_type": "markdown",
   "metadata": {
    "id": "AlFPISgS6NGO"
   },
   "source": [
    "### Dot Product\n",
    "\n",
    "- [Reference](https://en.wikipedia.org/wiki/Dot_product)\n",
    "- [Documentation](https://numpy.org/doc/stable/reference/generated/numpy.dot.html)\n",
    "\n",
    "**Formula:**\n",
    "\n",
    "![img](https://wikimedia.org/api/rest_v1/media/math/render/svg/5bd0b488ad92250b4e7c2f8ac92f700f8aefddd5)\n",
    "\n",
    "**Example:**\n",
    "\n",
    "![img](https://wikimedia.org/api/rest_v1/media/math/render/svg/be560d2c22a074c7711ae946954725d31ec77928)"
   ]
  },
  {
   "cell_type": "code",
   "execution_count": 26,
   "metadata": {
    "id": "r4BwOFjA6NGP",
    "outputId": "503598b4-c2f5-4294-d743-863f70d91c94"
   },
   "outputs": [
    {
     "name": "stdout",
     "output_type": "stream",
     "text": [
      "Prices: [1 2 3 4]\n",
      "Shares: [500 600 700 800]\n",
      "Total transaction value: 7000\n"
     ]
    }
   ],
   "source": [
    "# Make vectors\n",
    "price = np.array([1,2,3,4])\n",
    "shares = np.array([5,6,7,8])*100\n",
    "\n",
    "# Compute dot product by hand\n",
    "# hand_dot = np.sum(v1*v2)\n",
    "# print(\"Dot product by hand:\", hand_dot)\n",
    "\n",
    "# Compute dot product using NumPy\n",
    "numpy_dot = np.dot(price, shares)\n",
    "print(f\"Prices: {price}\")\n",
    "print(f\"Shares: {shares}\")\n",
    "print(\"Total transaction value:\", numpy_dot)"
   ]
  },
  {
   "cell_type": "markdown",
   "metadata": {
    "id": "DC_YTp1d6NGQ"
   },
   "source": [
    "### Matrices\n",
    "\n",
    "- [Reference](https://en.wikipedia.org/wiki/Matrix_(mathematics)#Definitions_and_notations)\n",
    "\n",
    "Matrices can be easily made by making a list of lists withing a `np.array`"
   ]
  },
  {
   "cell_type": "code",
   "execution_count": 28,
   "metadata": {
    "id": "Jc9Tgmha6NGQ",
    "outputId": "ec2b0119-28e4-4f48-e30a-b65c6a097338"
   },
   "outputs": [
    {
     "data": {
      "text/plain": [
       "matrix([[1, 2, 3],\n",
       "        [4, 5, 6],\n",
       "        [7, 8, 9]])"
      ]
     },
     "execution_count": 28,
     "metadata": {},
     "output_type": "execute_result"
    }
   ],
   "source": [
    "#Example Matrix\n",
    "\n",
    "matrix = np.matrix(\n",
    "    [\n",
    "        [1,2,3],\n",
    "        [4,5,6],\n",
    "        [7,8,9]\n",
    "    ]\n",
    ")\n",
    "\n",
    "matrix"
   ]
  },
  {
   "cell_type": "markdown",
   "metadata": {
    "id": "KCfgQPZz6NGR"
   },
   "source": [
    "### Matrix Equality\n",
    "\n",
    "- [Documentation](https://numpy.org/doc/stable/reference/generated/numpy.array_equal.html)\n",
    "\n",
    "Matrices are equal if their shape and elements are the same"
   ]
  },
  {
   "cell_type": "code",
   "execution_count": 37,
   "metadata": {
    "id": "M03zeCrM6NGS",
    "outputId": "2a4c13ce-5309-49db-a6e5-758fec1d04d3"
   },
   "outputs": [
    {
     "data": {
      "text/plain": [
       "False"
      ]
     },
     "execution_count": 37,
     "metadata": {},
     "output_type": "execute_result"
    }
   ],
   "source": [
    "m1 = np.array(\n",
    "    [\n",
    "        [1,2,3],\n",
    "        [3,2,1]\n",
    "    ]\n",
    ")\n",
    "\n",
    "m2 = np.array(\n",
    "    [\n",
    "        [1,2,3],\n",
    "        [3,2,5]\n",
    "    ]\n",
    ")\n",
    "\n",
    "\n",
    "# Matrix equality using NumPy\n",
    "np.array_equal(m1, m2)\n",
    "m1 == m2\n",
    "(m1 == m2).all()"
   ]
  },
  {
   "cell_type": "markdown",
   "metadata": {
    "id": "dWz5xysU6NGT"
   },
   "source": [
    "### Transpose\n",
    "\n",
    "- [Reference](https://en.wikipedia.org/wiki/Transpose)\n",
    "- [Documentation](https://numpy.org/doc/stable/reference/generated/numpy.transpose.html)\n",
    "\n",
    "![](https://upload.wikimedia.org/wikipedia/commons/e/e4/Matrix_transpose.gif)"
   ]
  },
  {
   "cell_type": "code",
   "execution_count": 8,
   "metadata": {
    "id": "pxXX00v46NGU",
    "outputId": "71ffd8b7-3078-4dbc-e568-c765cb0bbd6c"
   },
   "outputs": [
    {
     "data": {
      "text/plain": [
       "array([[1, 4],\n",
       "       [2, 5],\n",
       "       [3, 6]])"
      ]
     },
     "execution_count": 8,
     "metadata": {},
     "output_type": "execute_result"
    }
   ],
   "source": [
    "m1 = np.array(\n",
    "    [\n",
    "        [1,2,3],\n",
    "        [4,5,6]\n",
    "    ]\n",
    ")\n",
    "\n",
    "# Transpose using NumPy\n",
    "np.transpose(m1)"
   ]
  },
  {
   "cell_type": "markdown",
   "metadata": {
    "id": "iCzyzpFY6NGU"
   },
   "source": [
    "### Square Matrices\n",
    "\n",
    "- [Reference](https://en.wikipedia.org/wiki/Square_matrix)\n",
    "\n",
    "![](https://upload.wikimedia.org/wikipedia/commons/b/bf/Arbitrary_square_matrix.gif)\n",
    "\n",
    "A square matrix was the same number of rows as columns\n",
    "\n",
    "**Special Kind of Square Matrix (Identity Matrix)**\n",
    "\n",
    "An identity matrix has 1 values across the diagonal and a zero for all other values. When multiplying a matrix by an identity matrix it is equvalent to multiplying a number 1 (The value returns itself). Some examples are shown below\n",
    "\n",
    "![](https://wikimedia.org/api/rest_v1/media/math/render/svg/2c1a08c2710bc572d6ce5327a6094f34c76ebcc8)"
   ]
  },
  {
   "cell_type": "code",
   "execution_count": 9,
   "metadata": {
    "id": "gZkdX88p6NGV",
    "outputId": "676163c7-bb99-46fa-9137-a8d9c3bcd13b"
   },
   "outputs": [
    {
     "name": "stdout",
     "output_type": "stream",
     "text": [
      "Check shape of matrix:\n",
      " (3, 3)\n",
      "\n",
      "Result of Identity multiplied by target matrix:\n",
      " [[1 2 3]\n",
      " [4 5 6]\n",
      " [7 8 9]]\n"
     ]
    }
   ],
   "source": [
    "# Square Matrix example using NumPy\n",
    "\n",
    "m1 = np.array(\n",
    "    [\n",
    "        [1,2,3],\n",
    "        [4,5,6],\n",
    "        [7,8,9]\n",
    "    ]\n",
    ")\n",
    "\n",
    "# Check to see if rows equals columns\n",
    "square_numpy = m1.shape\n",
    "print(\"Check shape of matrix:\\n\", square_numpy)\n",
    "\n",
    "m_identity = np.array(\n",
    "    [\n",
    "        [1,0,0],\n",
    "        [0,1,0],\n",
    "        [0,0,1]\n",
    "        \n",
    "    ]\n",
    ")\n",
    "\n",
    "# Multiply m1 by identity matrix to produce m1\n",
    "identity_result = m1.dot(m_identity)\n",
    "print(\"\\nResult of Identity multiplied by target matrix:\\n\", identity_result)"
   ]
  },
  {
   "cell_type": "markdown",
   "metadata": {
    "id": "fmuXOHN96NGV"
   },
   "source": [
    "### Determinant\n",
    "\n",
    "- [Reference](https://en.wikipedia.org/wiki/Determinant)\n",
    "- [Documentation](https://numpy.org/doc/stable/reference/generated/numpy.linalg.det.html)\n",
    "\n",
    "The determinant of a matrix is used to find the inverse of a matrix. The calculation is easy to understand for a 2X2 matrix and gets more complicated for larger square matrixes.\n",
    "\n",
    "**Determinant of 2X2 Matrix**\n",
    "\n",
    "![](https://wikimedia.org/api/rest_v1/media/math/render/svg/5b2e40d390e1d26039aabee44c7d1d86c8755232)\n",
    "\n",
    "**Determinant of 3X3 Matrix**\n",
    "\n",
    "![](https://wikimedia.org/api/rest_v1/media/math/render/svg/a891ca1b518ba39ff21a458c74f9cc74bcefb18c)"
   ]
  },
  {
   "cell_type": "code",
   "execution_count": 10,
   "metadata": {
    "id": "aktdvy_p6NGW",
    "outputId": "67f067e9-466f-4597-e41f-03278c7282b6"
   },
   "outputs": [
    {
     "name": "stdout",
     "output_type": "stream",
     "text": [
      "Determinant by hand: -2\n",
      "Determinant using NumPy: -2.0000000000000004\n"
     ]
    }
   ],
   "source": [
    "m1 = np.array(\n",
    "    [\n",
    "        [1,2],\n",
    "        [3,4]\n",
    "    ]\n",
    ")\n",
    "\n",
    "# Calculating determinant by hand\n",
    "a = m1[0][0]\n",
    "b = m1[0][1]\n",
    "c = m1[1][0]\n",
    "d = m1[1][1]\n",
    "\n",
    "hand_det = a*d - b*c\n",
    "print(\"Determinant by hand:\" ,hand_det)\n",
    "\n",
    "# Determinant using NumPy\n",
    "numpy_det = np.linalg.det(m1)\n",
    "print(\"Determinant using NumPy:\", numpy_det)"
   ]
  },
  {
   "cell_type": "markdown",
   "metadata": {
    "id": "UOpdXijB6NGX"
   },
   "source": [
    "### Inverse\n",
    "\n",
    "- [Reference](https://en.wikipedia.org/wiki/Invertible_matrix)\n",
    "- [Documentation](https://numpy.org/doc/stable/reference/generated/numpy.linalg.inv.html)\n",
    "\n",
    "In linear algebra, an n-by-n square matrix A is called invertible (also nonsingular or nondegenerate), if there exists an n-by-n square matrix B such that\n",
    "\n",
    "![](https://wikimedia.org/api/rest_v1/media/math/render/svg/3292afbdf0bc47ee682fc420a0bb4bf8761e6ae7)\n",
    "\n",
    "where **I** is the identity matrix.\n",
    "\n",
    "![](https://www.mathsisfun.com/algebra/images/matrix-inverse-2x2.svg)"
   ]
  },
  {
   "cell_type": "code",
   "execution_count": 11,
   "metadata": {
    "id": "KXDlwS-u6NGX",
    "outputId": "193e7d51-598b-4477-abf0-4a0fd90d47cd"
   },
   "outputs": [
    {
     "name": "stdout",
     "output_type": "stream",
     "text": [
      "Determinant: -2 \n",
      "\n",
      "Calculated Square Matrix using Determinant by hand:\n",
      " [[-2.   1. ]\n",
      " [ 1.5 -0.5]] \n",
      "\n",
      "Results of Inverse by hand:\n",
      " [[1. 0.]\n",
      " [0. 1.]] \n",
      "\n",
      "Numpy Calculated Inverse:\n",
      " [[-2.   1. ]\n",
      " [ 1.5 -0.5]] \n",
      "\n",
      "Results of Inverse using NumPy:\n",
      " [[1.00000000e+00 1.11022302e-16]\n",
      " [0.00000000e+00 1.00000000e+00]]\n"
     ]
    }
   ],
   "source": [
    "m1 = np.array(\n",
    "    [\n",
    "        [1,2],\n",
    "        [3,4]\n",
    "    ]\n",
    ")\n",
    "\n",
    "# Calculating Inverse by hand\n",
    "a = m1[0][0]\n",
    "b = m1[0][1]\n",
    "c = m1[1][0]\n",
    "d = m1[1][1]\n",
    "\n",
    "# Calculate determinant\n",
    "hand_det = a*d - b*c\n",
    "print(\"Determinant:\", hand_det, \"\\n\")\n",
    "\n",
    "# Create transformed array according to formula above\n",
    "m1_adj = np.array(\n",
    "    [\n",
    "        [4,-2],\n",
    "        [-3,1]\n",
    "    ]\n",
    ")\n",
    "\n",
    "# Calculate square matrix with determinant and transformed array\n",
    "m1_square = m1_adj.dot((1/hand_det))\n",
    "print(\"Calculated Square Matrix using Determinant by hand:\\n\", m1_square, \"\\n\")\n",
    "\n",
    "# Multiply m1_square by original matrix to see if it equals the identity matrix\n",
    "hand_inv = m1.dot(m1_square)\n",
    "print(\"Results of Inverse by hand:\\n\", hand_inv, \"\\n\")\n",
    "\n",
    "# Calculate Inverse using NumPy\n",
    "numpy_inv = np.linalg.inv(m1)\n",
    "print(\"Numpy Calculated Inverse:\\n\", numpy_inv, \"\\n\")\n",
    "\n",
    "numpy_identity = m1.dot(numpy_inv)\n",
    "print(\"Results of Inverse using NumPy:\\n\", numpy_identity)"
   ]
  },
  {
   "cell_type": "markdown",
   "metadata": {
    "id": "kcKtaXy76NGX"
   },
   "source": [
    "### Linear System of Equations\n",
    "\n",
    "In mathematics, a system of linear equations (or linear system) is a collection of one or more linear equations involving the same set of variables.\n",
    "\n",
    "- [Reference](https://en.wikipedia.org/wiki/System_of_linear_equations)\n",
    "- [The Math Behind how It's Solved](https://www.mathsisfun.com/algebra/systems-linear-equations-matrices.html)\n",
    "\n",
    "**Example**\n",
    "\n",
    "- 4x  + 3y = 20\n",
    "- -5x + 9y = 26"
   ]
  },
  {
   "cell_type": "code",
   "execution_count": 12,
   "metadata": {
    "id": "YHHZOpqc6NGY"
   },
   "outputs": [],
   "source": [
    "# Represent coefficients in a numPy array\n",
    "A = np.array([[ 4, 3],\n",
    "             [-5, 9]])\n",
    "\n",
    "# Requirements\n",
    "B = np.array([[20],\n",
    "             [26]])"
   ]
  },
  {
   "cell_type": "code",
   "execution_count": 13,
   "metadata": {
    "id": "eGNW7Hdm6NGY",
    "outputId": "0c291bf6-1d1c-4d64-b5f5-8461a3939157"
   },
   "outputs": [
    {
     "data": {
      "text/plain": [
       "array([[2.],\n",
       "       [4.]])"
      ]
     },
     "execution_count": 13,
     "metadata": {},
     "output_type": "execute_result"
    }
   ],
   "source": [
    "# Solve the problem\n",
    "X = np.linalg.inv(A).dot(B)\n",
    "X"
   ]
  },
  {
   "cell_type": "code",
   "execution_count": 14,
   "metadata": {
    "id": "PdENUa9I6NGY"
   },
   "outputs": [],
   "source": [
    "# Plug in results\n",
    "x = X[0][0]\n",
    "y = X[1][0]"
   ]
  },
  {
   "cell_type": "code",
   "execution_count": 15,
   "metadata": {
    "id": "AiGpTCMV6NGZ",
    "outputId": "c6ee8718-a80d-49da-d6e8-b2a7454cfb64"
   },
   "outputs": [
    {
     "data": {
      "text/plain": [
       "20.0"
      ]
     },
     "execution_count": 15,
     "metadata": {},
     "output_type": "execute_result"
    }
   ],
   "source": [
    "# Check 4x + 3y = 20\n",
    "4*x + 3*y"
   ]
  },
  {
   "cell_type": "code",
   "execution_count": 16,
   "metadata": {
    "id": "4zaIWb1n6NGZ",
    "outputId": "59d0dbbf-0b4e-4dfc-ea9e-db6cd06839d1"
   },
   "outputs": [
    {
     "data": {
      "text/plain": [
       "25.999999999999993"
      ]
     },
     "execution_count": 16,
     "metadata": {},
     "output_type": "execute_result"
    }
   ],
   "source": [
    "# Check -5x + 9y = 26\n",
    "-5*x + 9*y"
   ]
  },
  {
   "cell_type": "code",
   "execution_count": null,
   "metadata": {
    "id": "rENCen6R6NGZ"
   },
   "outputs": [],
   "source": []
  }
 ],
 "metadata": {
  "colab": {
   "name": "numpy_ex_notebook.ipynb",
   "provenance": []
  },
  "kernelspec": {
   "display_name": "Python 3",
   "language": "python",
   "name": "python3"
  },
  "language_info": {
   "codemirror_mode": {
    "name": "ipython",
    "version": 3
   },
   "file_extension": ".py",
   "mimetype": "text/x-python",
   "name": "python",
   "nbconvert_exporter": "python",
   "pygments_lexer": "ipython3",
   "version": "3.8.8"
  }
 },
 "nbformat": 4,
 "nbformat_minor": 4
}
